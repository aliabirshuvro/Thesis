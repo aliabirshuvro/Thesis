{
  "nbformat": 4,
  "nbformat_minor": 0,
  "metadata": {
    "accelerator": "GPU",
    "colab": {
      "name": "ASTGCN_PyTorch_notebook.ipynb",
      "provenance": [],
      "collapsed_sections": [],
      "authorship_tag": "ABX9TyNsX5DJqLI0aPRL1mX4abpF",
      "include_colab_link": true
    },
    "kernelspec": {
      "display_name": "Python 3",
      "name": "python3"
    },
    "language_info": {
      "name": "python"
    }
  },
  "cells": [
    {
      "cell_type": "markdown",
      "metadata": {
        "id": "view-in-github",
        "colab_type": "text"
      },
      "source": [
        "<a href=\"https://colab.research.google.com/github/aliabirshuvro/Thesis/blob/main/Notebook/ASTGCN_PyTorch_notebook.ipynb\" target=\"_parent\"><img src=\"https://colab.research.google.com/assets/colab-badge.svg\" alt=\"Open In Colab\"/></a>"
      ]
    },
    {
      "cell_type": "code",
      "metadata": {
        "id": "xHrzW97R-m7Z",
        "colab": {
          "base_uri": "https://localhost:8080/"
        },
        "outputId": "142ab960-18f1-491e-c2f5-3f97b7a78bb3"
      },
      "source": [
        "!nvidia-smi"
      ],
      "execution_count": null,
      "outputs": [
        {
          "output_type": "stream",
          "name": "stdout",
          "text": [
            "Mon Nov  1 15:16:00 2021       \n",
            "+-----------------------------------------------------------------------------+\n",
            "| NVIDIA-SMI 495.29.05    Driver Version: 460.32.03    CUDA Version: 11.2     |\n",
            "|-------------------------------+----------------------+----------------------+\n",
            "| GPU  Name        Persistence-M| Bus-Id        Disp.A | Volatile Uncorr. ECC |\n",
            "| Fan  Temp  Perf  Pwr:Usage/Cap|         Memory-Usage | GPU-Util  Compute M. |\n",
            "|                               |                      |               MIG M. |\n",
            "|===============================+======================+======================|\n",
            "|   0  Tesla K80           Off  | 00000000:00:04.0 Off |                    0 |\n",
            "| N/A   67C    P8    34W / 149W |      0MiB / 11441MiB |      0%      Default |\n",
            "|                               |                      |                  N/A |\n",
            "+-------------------------------+----------------------+----------------------+\n",
            "                                                                               \n",
            "+-----------------------------------------------------------------------------+\n",
            "| Processes:                                                                  |\n",
            "|  GPU   GI   CI        PID   Type   Process name                  GPU Memory |\n",
            "|        ID   ID                                                   Usage      |\n",
            "|=============================================================================|\n",
            "|  No running processes found                                                 |\n",
            "+-----------------------------------------------------------------------------+\n"
          ]
        }
      ]
    },
    {
      "cell_type": "code",
      "metadata": {
        "id": "tKAnz0WJzrzP",
        "colab": {
          "base_uri": "https://localhost:8080/"
        },
        "outputId": "f9302167-9e18-46e6-89f0-2f65f912dfb1"
      },
      "source": [
        "!pip install tensorboardx"
      ],
      "execution_count": null,
      "outputs": [
        {
          "output_type": "stream",
          "name": "stdout",
          "text": [
            "Collecting tensorboardx\n",
            "  Downloading tensorboardX-2.4-py2.py3-none-any.whl (124 kB)\n",
            "\u001b[?25l\r\u001b[K     |██▋                             | 10 kB 17.7 MB/s eta 0:00:01\r\u001b[K     |█████▎                          | 20 kB 19.2 MB/s eta 0:00:01\r\u001b[K     |████████                        | 30 kB 11.6 MB/s eta 0:00:01\r\u001b[K     |██████████▌                     | 40 kB 10.0 MB/s eta 0:00:01\r\u001b[K     |█████████████▏                  | 51 kB 4.6 MB/s eta 0:00:01\r\u001b[K     |███████████████▉                | 61 kB 4.9 MB/s eta 0:00:01\r\u001b[K     |██████████████████▍             | 71 kB 4.5 MB/s eta 0:00:01\r\u001b[K     |█████████████████████           | 81 kB 5.1 MB/s eta 0:00:01\r\u001b[K     |███████████████████████▊        | 92 kB 5.0 MB/s eta 0:00:01\r\u001b[K     |██████████████████████████▎     | 102 kB 4.4 MB/s eta 0:00:01\r\u001b[K     |█████████████████████████████   | 112 kB 4.4 MB/s eta 0:00:01\r\u001b[K     |███████████████████████████████▋| 122 kB 4.4 MB/s eta 0:00:01\r\u001b[K     |████████████████████████████████| 124 kB 4.4 MB/s \n",
            "\u001b[?25hRequirement already satisfied: numpy in /usr/local/lib/python3.7/dist-packages (from tensorboardx) (1.19.5)\n",
            "Requirement already satisfied: protobuf>=3.8.0 in /usr/local/lib/python3.7/dist-packages (from tensorboardx) (3.17.3)\n",
            "Requirement already satisfied: six>=1.9 in /usr/local/lib/python3.7/dist-packages (from protobuf>=3.8.0->tensorboardx) (1.15.0)\n",
            "Installing collected packages: tensorboardx\n",
            "Successfully installed tensorboardx-2.4\n"
          ]
        }
      ]
    },
    {
      "cell_type": "code",
      "metadata": {
        "id": "aBxqHKoxsguN",
        "colab": {
          "base_uri": "https://localhost:8080/"
        },
        "outputId": "00de40a4-bff9-4318-80c5-0e576147e6db"
      },
      "source": [
        "!gdown --id 18X0W4mmV3N8kqkHKrxBrS2QyI7l9fgW6\n",
        "!unzip -o /content/ASTGCN-r-pytorch-master.zip -d /content/\n",
        "!gdown --id 18Tk1dE_S0gxzfVj6DceEc13e7OYvTebi\n",
        "!unzip -o /content/data.zip -d /content/ASTGCN-r-pytorch-master\n",
        "!gdown --id 18ZnuTKYPzdjbGlodcLlSFDMF0_X00e4s\n",
        "!unzip -o /content/experiments.zip -d /content/\n",
        "!rm ASTGCN-r-pytorch-master.zip\n",
        "!rm data.zip\n",
        "!rm experiments.zip"
      ],
      "execution_count": null,
      "outputs": [
        {
          "output_type": "stream",
          "name": "stdout",
          "text": [
            "Downloading...\n",
            "From: https://drive.google.com/uc?id=18X0W4mmV3N8kqkHKrxBrS2QyI7l9fgW6\n",
            "To: /content/ASTGCN-r-pytorch-master.zip\n",
            "\r  0% 0.00/1.32M [00:00<?, ?B/s]\r100% 1.32M/1.32M [00:00<00:00, 87.0MB/s]\n",
            "Archive:  /content/ASTGCN-r-pytorch-master.zip\n",
            "   creating: /content/ASTGCN-r-pytorch-master/.idea/\n",
            "  inflating: /content/ASTGCN-r-pytorch-master/.idea/ASTGCN_r.iml  \n",
            "  inflating: /content/ASTGCN-r-pytorch-master/.idea/deployment.xml  \n",
            "  inflating: /content/ASTGCN-r-pytorch-master/.idea/misc.xml  \n",
            "  inflating: /content/ASTGCN-r-pytorch-master/.idea/modules.xml  \n",
            "  inflating: /content/ASTGCN-r-pytorch-master/.idea/remote-mappings.xml  \n",
            "  inflating: /content/ASTGCN-r-pytorch-master/.idea/vcs.xml  \n",
            "  inflating: /content/ASTGCN-r-pytorch-master/.idea/workspace.xml  \n",
            "   creating: /content/ASTGCN-r-pytorch-master/configurations/\n",
            "  inflating: /content/ASTGCN-r-pytorch-master/configurations/PEMS04_astgcn.conf  \n",
            "  inflating: /content/ASTGCN-r-pytorch-master/configurations/PEMS08_astgcn.conf  \n",
            "   creating: /content/ASTGCN-r-pytorch-master/fig/\n",
            "  inflating: /content/ASTGCN-r-pytorch-master/fig/ASTGCN architecture.png  \n",
            "   creating: /content/ASTGCN-r-pytorch-master/lib/\n",
            "  inflating: /content/ASTGCN-r-pytorch-master/lib/metrics.py  \n",
            "  inflating: /content/ASTGCN-r-pytorch-master/lib/utils.py  \n",
            "   creating: /content/ASTGCN-r-pytorch-master/model/\n",
            "  inflating: /content/ASTGCN-r-pytorch-master/model/ASTGCN_r.py  \n",
            "  inflating: /content/ASTGCN-r-pytorch-master/model/MSTGCN_r.py  \n",
            "   creating: /content/ASTGCN-r-pytorch-master/paper/\n",
            "  inflating: /content/ASTGCN-r-pytorch-master/paper/AAAI-GuoS.2690.pdf  \n",
            "  inflating: /content/ASTGCN-r-pytorch-master/prepareData.py  \n",
            "  inflating: /content/ASTGCN-r-pytorch-master/README.md  \n",
            "  inflating: /content/ASTGCN-r-pytorch-master/train_ASTGCN_r.py  \n",
            "  inflating: /content/ASTGCN-r-pytorch-master/train_MSTGCN_r.py  \n",
            "Downloading...\n",
            "From: https://drive.google.com/uc?id=18Tk1dE_S0gxzfVj6DceEc13e7OYvTebi\n",
            "To: /content/data.zip\n",
            "100% 50.9M/50.9M [00:00<00:00, 162MB/s]\n",
            "Archive:  /content/data.zip\n",
            "   creating: /content/ASTGCN-r-pytorch-master/data/PEMS04/\n",
            "  inflating: /content/ASTGCN-r-pytorch-master/data/PEMS04/PEMS04.csv  \n",
            "  inflating: /content/ASTGCN-r-pytorch-master/data/PEMS04/PEMS04.npz  \n",
            "   creating: /content/ASTGCN-r-pytorch-master/data/PEMS08/\n",
            "  inflating: /content/ASTGCN-r-pytorch-master/data/PEMS08/PEMS08.csv  \n",
            "  inflating: /content/ASTGCN-r-pytorch-master/data/PEMS08/PEMS08.npz  \n",
            "Downloading...\n",
            "From: https://drive.google.com/uc?id=18ZnuTKYPzdjbGlodcLlSFDMF0_X00e4s\n",
            "To: /content/experiments.zip\n",
            "100% 57.1M/57.1M [00:00<00:00, 77.5MB/s]\n",
            "Archive:  /content/experiments.zip\n",
            "   creating: /content/experiments/PEMS04/\n",
            "   creating: /content/experiments/PEMS04/astgcn_r_h1d0w0_channel1_1.000000e-03/\n",
            "  inflating: /content/experiments/PEMS04/astgcn_r_h1d0w0_channel1_1.000000e-03/epoch_0.params  \n",
            "  inflating: /content/experiments/PEMS04/astgcn_r_h1d0w0_channel1_1.000000e-03/epoch_1.params  \n",
            "  inflating: /content/experiments/PEMS04/astgcn_r_h1d0w0_channel1_1.000000e-03/epoch_10.params  \n",
            "  inflating: /content/experiments/PEMS04/astgcn_r_h1d0w0_channel1_1.000000e-03/epoch_11.params  \n",
            "  inflating: /content/experiments/PEMS04/astgcn_r_h1d0w0_channel1_1.000000e-03/epoch_12.params  \n",
            "  inflating: /content/experiments/PEMS04/astgcn_r_h1d0w0_channel1_1.000000e-03/epoch_13.params  \n",
            "  inflating: /content/experiments/PEMS04/astgcn_r_h1d0w0_channel1_1.000000e-03/epoch_14.params  \n",
            "  inflating: /content/experiments/PEMS04/astgcn_r_h1d0w0_channel1_1.000000e-03/epoch_15.params  \n",
            "  inflating: /content/experiments/PEMS04/astgcn_r_h1d0w0_channel1_1.000000e-03/epoch_16.params  \n",
            "  inflating: /content/experiments/PEMS04/astgcn_r_h1d0w0_channel1_1.000000e-03/epoch_18.params  \n",
            "  inflating: /content/experiments/PEMS04/astgcn_r_h1d0w0_channel1_1.000000e-03/epoch_19.params  \n",
            "  inflating: /content/experiments/PEMS04/astgcn_r_h1d0w0_channel1_1.000000e-03/epoch_2.params  \n",
            "  inflating: /content/experiments/PEMS04/astgcn_r_h1d0w0_channel1_1.000000e-03/epoch_20.params  \n",
            "  inflating: /content/experiments/PEMS04/astgcn_r_h1d0w0_channel1_1.000000e-03/epoch_21.params  \n",
            "  inflating: /content/experiments/PEMS04/astgcn_r_h1d0w0_channel1_1.000000e-03/epoch_22.params  \n",
            "  inflating: /content/experiments/PEMS04/astgcn_r_h1d0w0_channel1_1.000000e-03/epoch_23.params  \n",
            "  inflating: /content/experiments/PEMS04/astgcn_r_h1d0w0_channel1_1.000000e-03/epoch_24.params  \n",
            "  inflating: /content/experiments/PEMS04/astgcn_r_h1d0w0_channel1_1.000000e-03/epoch_25.params  \n",
            "  inflating: /content/experiments/PEMS04/astgcn_r_h1d0w0_channel1_1.000000e-03/epoch_29.params  \n",
            "  inflating: /content/experiments/PEMS04/astgcn_r_h1d0w0_channel1_1.000000e-03/epoch_3.params  \n",
            "  inflating: /content/experiments/PEMS04/astgcn_r_h1d0w0_channel1_1.000000e-03/epoch_31.params  \n",
            "  inflating: /content/experiments/PEMS04/astgcn_r_h1d0w0_channel1_1.000000e-03/epoch_33.params  \n",
            "  inflating: /content/experiments/PEMS04/astgcn_r_h1d0w0_channel1_1.000000e-03/epoch_37.params  \n",
            "  inflating: /content/experiments/PEMS04/astgcn_r_h1d0w0_channel1_1.000000e-03/epoch_39.params  \n",
            "  inflating: /content/experiments/PEMS04/astgcn_r_h1d0w0_channel1_1.000000e-03/epoch_4.params  \n",
            "  inflating: /content/experiments/PEMS04/astgcn_r_h1d0w0_channel1_1.000000e-03/epoch_43.params  \n",
            "  inflating: /content/experiments/PEMS04/astgcn_r_h1d0w0_channel1_1.000000e-03/epoch_48.params  \n",
            "  inflating: /content/experiments/PEMS04/astgcn_r_h1d0w0_channel1_1.000000e-03/epoch_5.params  \n",
            "  inflating: /content/experiments/PEMS04/astgcn_r_h1d0w0_channel1_1.000000e-03/epoch_55.params  \n",
            "  inflating: /content/experiments/PEMS04/astgcn_r_h1d0w0_channel1_1.000000e-03/epoch_58.params  \n",
            "  inflating: /content/experiments/PEMS04/astgcn_r_h1d0w0_channel1_1.000000e-03/epoch_6.params  \n",
            "  inflating: /content/experiments/PEMS04/astgcn_r_h1d0w0_channel1_1.000000e-03/epoch_7.params  \n",
            "  inflating: /content/experiments/PEMS04/astgcn_r_h1d0w0_channel1_1.000000e-03/epoch_8.params  \n",
            "  inflating: /content/experiments/PEMS04/astgcn_r_h1d0w0_channel1_1.000000e-03/epoch_9.params  \n",
            "  inflating: /content/experiments/PEMS04/astgcn_r_h1d0w0_channel1_1.000000e-03/events.out.tfevents.1635054402.49b27e04cd6f  \n"
          ]
        }
      ]
    },
    {
      "cell_type": "code",
      "metadata": {
        "id": "KjoCScugu6CO",
        "colab": {
          "base_uri": "https://localhost:8080/"
        },
        "outputId": "f9489c57-46da-4332-ac35-dc21c8a923c8"
      },
      "source": [
        "!python ASTGCN-r-pytorch-master/prepareData.py --config ASTGCN-r-pytorch-master/configurations/PEMS04_astgcn.conf\n",
        "#!python ASTGCN-r-pytorch-master/prepareData.py --config ASTGCN-r-pytorch-master/configurations/PEMS08_astgcn.conf"
      ],
      "execution_count": null,
      "outputs": [
        {
          "output_type": "stream",
          "name": "stdout",
          "text": [
            "Read configuration file: ASTGCN-r-pytorch-master/configurations/PEMS04_astgcn.conf\n",
            "mean.shape: (1, 1, 3, 1)\n",
            "std.shape: (1, 1, 3, 1)\n",
            "train x: (10181, 307, 3, 12)\n",
            "train target: (10181, 307, 12)\n",
            "train timestamp: (10181, 1)\n",
            "\n",
            "val x: (3394, 307, 3, 12)\n",
            "val target: (3394, 307, 12)\n",
            "val timestamp: (3394, 1)\n",
            "\n",
            "test x: (3394, 307, 3, 12)\n",
            "test target: (3394, 307, 12)\n",
            "test timestamp: (3394, 1)\n",
            "\n",
            "train data _mean : (1, 1, 3, 1) [[[[2.07227338e+02]\n",
            "   [5.13195612e-02]\n",
            "   [6.34740574e+01]]]]\n",
            "train data _std : (1, 1, 3, 1) [[[[1.56477655e+02]\n",
            "   [4.78541626e-02]\n",
            "   [8.10351724e+00]]]]\n",
            "save file: ASTGCN-r-pytorch-master/data/PEMS04/PEMS04_r1_d0_w0_astcgn\n"
          ]
        }
      ]
    },
    {
      "cell_type": "code",
      "metadata": {
        "id": "4s6jngr7yfoP",
        "colab": {
          "base_uri": "https://localhost:8080/"
        },
        "outputId": "86106ad1-a50c-4ea0-a66c-7e20263fa2b1"
      },
      "source": [
        "!python ASTGCN-r-pytorch-master/train_ASTGCN_r.py --config ASTGCN-r-pytorch-master/configurations/PEMS04_astgcn.conf"
      ],
      "execution_count": null,
      "outputs": [
        {
          "output_type": "stream",
          "name": "stdout",
          "text": [
            "Read configuration file: ASTGCN-r-pytorch-master/configurations/PEMS04_astgcn.conf\n",
            "CUDA: True cuda:0\n",
            "folder_dir: astgcn_r_h1d0w0_channel1_1.000000e-03\n",
            "params_path: experiments/PEMS04/astgcn_r_h1d0w0_channel1_1.000000e-03\n",
            "load file: ASTGCN-r-pytorch-master/data/PEMS04/PEMS04_r1_d0_w0_astcgn\n",
            "train: torch.Size([10181, 307, 1, 12]) torch.Size([10181, 307, 12])\n",
            "val: torch.Size([3394, 307, 1, 12]) torch.Size([3394, 307, 12])\n",
            "test: torch.Size([3394, 307, 1, 12]) torch.Size([3394, 307, 12])\n",
            "delete the old one and create params directory experiments/PEMS04/astgcn_r_h1d0w0_channel1_1.000000e-03\n",
            "param list:\n",
            "CUDA\t cuda:0\n",
            "in_channels\t 1\n",
            "nb_block\t 2\n",
            "nb_chev_filter\t 64\n",
            "nb_time_filter\t 64\n",
            "time_strides\t 1\n",
            "batch_size\t 32\n",
            "graph_signal_matrix_filename\t ASTGCN-r-pytorch-master/data/PEMS04/PEMS04.npz\n",
            "start_epoch\t 0\n",
            "epochs\t 80\n",
            "ASTGCN_submodule(\n",
            "  (BlockList): ModuleList(\n",
            "    (0): ASTGCN_block(\n",
            "      (TAt): Temporal_Attention_layer()\n",
            "      (SAt): Spatial_Attention_layer()\n",
            "      (cheb_conv_SAt): cheb_conv_withSAt(\n",
            "        (Theta): ParameterList(\n",
            "            (0): Parameter containing: [torch.cuda.FloatTensor of size 1x64 (GPU 0)]\n",
            "            (1): Parameter containing: [torch.cuda.FloatTensor of size 1x64 (GPU 0)]\n",
            "            (2): Parameter containing: [torch.cuda.FloatTensor of size 1x64 (GPU 0)]\n",
            "        )\n",
            "      )\n",
            "      (time_conv): Conv2d(64, 64, kernel_size=(1, 3), stride=(1, 1), padding=(0, 1))\n",
            "      (residual_conv): Conv2d(1, 64, kernel_size=(1, 1), stride=(1, 1))\n",
            "      (ln): LayerNorm((64,), eps=1e-05, elementwise_affine=True)\n",
            "    )\n",
            "    (1): ASTGCN_block(\n",
            "      (TAt): Temporal_Attention_layer()\n",
            "      (SAt): Spatial_Attention_layer()\n",
            "      (cheb_conv_SAt): cheb_conv_withSAt(\n",
            "        (Theta): ParameterList(\n",
            "            (0): Parameter containing: [torch.cuda.FloatTensor of size 64x64 (GPU 0)]\n",
            "            (1): Parameter containing: [torch.cuda.FloatTensor of size 64x64 (GPU 0)]\n",
            "            (2): Parameter containing: [torch.cuda.FloatTensor of size 64x64 (GPU 0)]\n",
            "        )\n",
            "      )\n",
            "      (time_conv): Conv2d(64, 64, kernel_size=(1, 3), stride=(1, 1), padding=(0, 1))\n",
            "      (residual_conv): Conv2d(64, 64, kernel_size=(1, 1), stride=(1, 1))\n",
            "      (ln): LayerNorm((64,), eps=1e-05, elementwise_affine=True)\n",
            "    )\n",
            "  )\n",
            "  (final_conv): Conv2d(12, 12, kernel_size=(1, 64), stride=(1, 1))\n",
            ")\n",
            "Net's state_dict:\n",
            "BlockList.0.TAt.U1 \t torch.Size([307])\n",
            "BlockList.0.TAt.U2 \t torch.Size([1, 307])\n",
            "BlockList.0.TAt.U3 \t torch.Size([1])\n",
            "BlockList.0.TAt.be \t torch.Size([1, 12, 12])\n",
            "BlockList.0.TAt.Ve \t torch.Size([12, 12])\n",
            "BlockList.0.SAt.W1 \t torch.Size([12])\n",
            "BlockList.0.SAt.W2 \t torch.Size([1, 12])\n",
            "BlockList.0.SAt.W3 \t torch.Size([1])\n",
            "BlockList.0.SAt.bs \t torch.Size([1, 307, 307])\n",
            "BlockList.0.SAt.Vs \t torch.Size([307, 307])\n",
            "BlockList.0.cheb_conv_SAt.Theta.0 \t torch.Size([1, 64])\n",
            "BlockList.0.cheb_conv_SAt.Theta.1 \t torch.Size([1, 64])\n",
            "BlockList.0.cheb_conv_SAt.Theta.2 \t torch.Size([1, 64])\n",
            "BlockList.0.time_conv.weight \t torch.Size([64, 64, 1, 3])\n",
            "BlockList.0.time_conv.bias \t torch.Size([64])\n",
            "BlockList.0.residual_conv.weight \t torch.Size([64, 1, 1, 1])\n",
            "BlockList.0.residual_conv.bias \t torch.Size([64])\n",
            "BlockList.0.ln.weight \t torch.Size([64])\n",
            "BlockList.0.ln.bias \t torch.Size([64])\n",
            "BlockList.1.TAt.U1 \t torch.Size([307])\n",
            "BlockList.1.TAt.U2 \t torch.Size([64, 307])\n",
            "BlockList.1.TAt.U3 \t torch.Size([64])\n",
            "BlockList.1.TAt.be \t torch.Size([1, 12, 12])\n",
            "BlockList.1.TAt.Ve \t torch.Size([12, 12])\n",
            "BlockList.1.SAt.W1 \t torch.Size([12])\n",
            "BlockList.1.SAt.W2 \t torch.Size([64, 12])\n",
            "BlockList.1.SAt.W3 \t torch.Size([64])\n",
            "BlockList.1.SAt.bs \t torch.Size([1, 307, 307])\n",
            "BlockList.1.SAt.Vs \t torch.Size([307, 307])\n",
            "BlockList.1.cheb_conv_SAt.Theta.0 \t torch.Size([64, 64])\n",
            "BlockList.1.cheb_conv_SAt.Theta.1 \t torch.Size([64, 64])\n",
            "BlockList.1.cheb_conv_SAt.Theta.2 \t torch.Size([64, 64])\n",
            "BlockList.1.time_conv.weight \t torch.Size([64, 64, 1, 3])\n",
            "BlockList.1.time_conv.bias \t torch.Size([64])\n",
            "BlockList.1.residual_conv.weight \t torch.Size([64, 64, 1, 1])\n",
            "BlockList.1.residual_conv.bias \t torch.Size([64])\n",
            "BlockList.1.ln.weight \t torch.Size([64])\n",
            "BlockList.1.ln.bias \t torch.Size([64])\n",
            "final_conv.weight \t torch.Size([12, 12, 1, 64])\n",
            "final_conv.bias \t torch.Size([12])\n",
            "Net's total params: 450031\n",
            "Optimizer's state_dict:\n",
            "state \t {}\n",
            "param_groups \t [{'lr': 0.001, 'betas': (0.9, 0.999), 'eps': 1e-08, 'weight_decay': 0, 'amsgrad': False, 'params': [0, 1, 2, 3, 4, 5, 6, 7, 8, 9, 10, 11, 12, 13, 14, 15, 16, 17, 18, 19, 20, 21, 22, 23, 24, 25, 26, 27, 28, 29, 30, 31, 32, 33, 34, 35, 36, 37, 38, 39]}]\n",
            "validation batch 1 / 107, loss: 92972.32\n",
            "validation batch 101 / 107, loss: 132334.19\n",
            "save parameters to file: experiments/PEMS04/astgcn_r_h1d0w0_channel1_1.000000e-03/epoch_0.params\n",
            "validation batch 1 / 107, loss: 9243.83\n",
            "validation batch 101 / 107, loss: 18901.99\n",
            "save parameters to file: experiments/PEMS04/astgcn_r_h1d0w0_channel1_1.000000e-03/epoch_1.params\n",
            "validation batch 1 / 107, loss: 3102.63\n",
            "validation batch 101 / 107, loss: 5136.43\n",
            "save parameters to file: experiments/PEMS04/astgcn_r_h1d0w0_channel1_1.000000e-03/epoch_2.params\n",
            "validation batch 1 / 107, loss: 2657.23\n",
            "validation batch 101 / 107, loss: 3349.77\n",
            "save parameters to file: experiments/PEMS04/astgcn_r_h1d0w0_channel1_1.000000e-03/epoch_3.params\n",
            "global step: 1000, training loss: 1848.42, time: 415.71s\n",
            "validation batch 1 / 107, loss: 2398.53\n",
            "validation batch 101 / 107, loss: 2865.41\n",
            "save parameters to file: experiments/PEMS04/astgcn_r_h1d0w0_channel1_1.000000e-03/epoch_4.params\n"
          ]
        }
      ]
    },
    {
      "cell_type": "code",
      "metadata": {
        "id": "Bw7Oa6FD-hmp",
        "colab": {
          "base_uri": "https://localhost:8080/",
          "height": 697
        },
        "outputId": "dfb9f775-d8f8-4b5a-f2b0-2c9c9e610f25"
      },
      "source": [
        "!zip -r /content/file.zip /content/experiments\n",
        "from google.colab import files\n",
        "files.download(\"/content/file.zip\")"
      ],
      "execution_count": null,
      "outputs": [
        {
          "output_type": "stream",
          "name": "stdout",
          "text": [
            "  adding: content/experiments/ (stored 0%)\n",
            "  adding: content/experiments/PEMS04/ (stored 0%)\n",
            "  adding: content/experiments/PEMS04/astgcn_r_h1d0w0_channel1_1.000000e-03/ (stored 0%)\n",
            "  adding: content/experiments/PEMS04/astgcn_r_h1d0w0_channel1_1.000000e-03/epoch_39.params (deflated 8%)\n",
            "  adding: content/experiments/PEMS04/astgcn_r_h1d0w0_channel1_1.000000e-03/epoch_55.params (deflated 8%)\n",
            "  adding: content/experiments/PEMS04/astgcn_r_h1d0w0_channel1_1.000000e-03/epoch_43.params (deflated 8%)\n",
            "  adding: content/experiments/PEMS04/astgcn_r_h1d0w0_channel1_1.000000e-03/epoch_20.params (deflated 8%)\n",
            "  adding: content/experiments/PEMS04/astgcn_r_h1d0w0_channel1_1.000000e-03/epoch_1.params (deflated 8%)\n",
            "  adding: content/experiments/PEMS04/astgcn_r_h1d0w0_channel1_1.000000e-03/epoch_18.params (deflated 8%)\n",
            "  adding: content/experiments/PEMS04/astgcn_r_h1d0w0_channel1_1.000000e-03/epoch_37.params (deflated 8%)\n",
            "  adding: content/experiments/PEMS04/astgcn_r_h1d0w0_channel1_1.000000e-03/epoch_6.params (deflated 8%)\n",
            "  adding: content/experiments/PEMS04/astgcn_r_h1d0w0_channel1_1.000000e-03/epoch_0.params (deflated 9%)\n",
            "  adding: content/experiments/PEMS04/astgcn_r_h1d0w0_channel1_1.000000e-03/epoch_16.params (deflated 8%)\n",
            "  adding: content/experiments/PEMS04/astgcn_r_h1d0w0_channel1_1.000000e-03/epoch_48.params (deflated 8%)\n",
            "  adding: content/experiments/PEMS04/astgcn_r_h1d0w0_channel1_1.000000e-03/epoch_58.params (deflated 8%)\n",
            "  adding: content/experiments/PEMS04/astgcn_r_h1d0w0_channel1_1.000000e-03/epoch_15.params (deflated 8%)\n",
            "  adding: content/experiments/PEMS04/astgcn_r_h1d0w0_channel1_1.000000e-03/epoch_19.params (deflated 8%)\n",
            "  adding: content/experiments/PEMS04/astgcn_r_h1d0w0_channel1_1.000000e-03/epoch_29.params (deflated 8%)\n",
            "  adding: content/experiments/PEMS04/astgcn_r_h1d0w0_channel1_1.000000e-03/epoch_2.params (deflated 8%)\n",
            "  adding: content/experiments/PEMS04/astgcn_r_h1d0w0_channel1_1.000000e-03/epoch_5.params (deflated 8%)\n",
            "  adding: content/experiments/PEMS04/astgcn_r_h1d0w0_channel1_1.000000e-03/epoch_21.params (deflated 8%)\n",
            "  adding: content/experiments/PEMS04/astgcn_r_h1d0w0_channel1_1.000000e-03/epoch_11.params (deflated 8%)\n",
            "  adding: content/experiments/PEMS04/astgcn_r_h1d0w0_channel1_1.000000e-03/epoch_24.params (deflated 8%)\n",
            "  adding: content/experiments/PEMS04/astgcn_r_h1d0w0_channel1_1.000000e-03/epoch_7.params (deflated 8%)\n",
            "  adding: content/experiments/PEMS04/astgcn_r_h1d0w0_channel1_1.000000e-03/epoch_13.params (deflated 8%)\n",
            "  adding: content/experiments/PEMS04/astgcn_r_h1d0w0_channel1_1.000000e-03/epoch_10.params (deflated 8%)\n",
            "  adding: content/experiments/PEMS04/astgcn_r_h1d0w0_channel1_1.000000e-03/epoch_33.params (deflated 8%)\n",
            "  adding: content/experiments/PEMS04/astgcn_r_h1d0w0_channel1_1.000000e-03/epoch_3.params (deflated 8%)\n",
            "  adding: content/experiments/PEMS04/astgcn_r_h1d0w0_channel1_1.000000e-03/epoch_12.params (deflated 8%)\n",
            "  adding: content/experiments/PEMS04/astgcn_r_h1d0w0_channel1_1.000000e-03/epoch_25.params (deflated 8%)\n",
            "  adding: content/experiments/PEMS04/astgcn_r_h1d0w0_channel1_1.000000e-03/events.out.tfevents.1635054402.49b27e04cd6f (deflated 68%)\n",
            "  adding: content/experiments/PEMS04/astgcn_r_h1d0w0_channel1_1.000000e-03/epoch_9.params (deflated 8%)\n",
            "  adding: content/experiments/PEMS04/astgcn_r_h1d0w0_channel1_1.000000e-03/epoch_4.params (deflated 8%)\n",
            "  adding: content/experiments/PEMS04/astgcn_r_h1d0w0_channel1_1.000000e-03/epoch_23.params (deflated 8%)\n",
            "  adding: content/experiments/PEMS04/astgcn_r_h1d0w0_channel1_1.000000e-03/epoch_14.params (deflated 8%)\n",
            "  adding: content/experiments/PEMS04/astgcn_r_h1d0w0_channel1_1.000000e-03/output_epoch_31_test.npz (deflated 73%)\n",
            "  adding: content/experiments/PEMS04/astgcn_r_h1d0w0_channel1_1.000000e-03/epoch_8.params (deflated 8%)\n",
            "  adding: content/experiments/PEMS04/astgcn_r_h1d0w0_channel1_1.000000e-03/epoch_22.params (deflated 8%)\n",
            "  adding: content/experiments/PEMS04/astgcn_r_h1d0w0_channel1_1.000000e-03/epoch_31.params (deflated 8%)\n"
          ]
        },
        {
          "output_type": "display_data",
          "data": {
            "application/javascript": [
              "\n",
              "    async function download(id, filename, size) {\n",
              "      if (!google.colab.kernel.accessAllowed) {\n",
              "        return;\n",
              "      }\n",
              "      const div = document.createElement('div');\n",
              "      const label = document.createElement('label');\n",
              "      label.textContent = `Downloading \"${filename}\": `;\n",
              "      div.appendChild(label);\n",
              "      const progress = document.createElement('progress');\n",
              "      progress.max = size;\n",
              "      div.appendChild(progress);\n",
              "      document.body.appendChild(div);\n",
              "\n",
              "      const buffers = [];\n",
              "      let downloaded = 0;\n",
              "\n",
              "      const channel = await google.colab.kernel.comms.open(id);\n",
              "      // Send a message to notify the kernel that we're ready.\n",
              "      channel.send({})\n",
              "\n",
              "      for await (const message of channel.messages) {\n",
              "        // Send a message to notify the kernel that we're ready.\n",
              "        channel.send({})\n",
              "        if (message.buffers) {\n",
              "          for (const buffer of message.buffers) {\n",
              "            buffers.push(buffer);\n",
              "            downloaded += buffer.byteLength;\n",
              "            progress.value = downloaded;\n",
              "          }\n",
              "        }\n",
              "      }\n",
              "      const blob = new Blob(buffers, {type: 'application/binary'});\n",
              "      const a = document.createElement('a');\n",
              "      a.href = window.URL.createObjectURL(blob);\n",
              "      a.download = filename;\n",
              "      div.appendChild(a);\n",
              "      a.click();\n",
              "      div.remove();\n",
              "    }\n",
              "  "
            ],
            "text/plain": [
              "<IPython.core.display.Javascript object>"
            ]
          },
          "metadata": {}
        },
        {
          "output_type": "display_data",
          "data": {
            "application/javascript": [
              "download(\"download_52c1e28d-8c60-48ad-8041-2f59bc50fc94\", \"file.zip\", 110749411)"
            ],
            "text/plain": [
              "<IPython.core.display.Javascript object>"
            ]
          },
          "metadata": {}
        }
      ]
    },
    {
      "cell_type": "code",
      "metadata": {
        "id": "yg1DX9wReOgw"
      },
      "source": [
        ""
      ],
      "execution_count": null,
      "outputs": []
    }
  ]
}